{
 "cells": [
  {
   "cell_type": "markdown",
   "id": "04cf7e30",
   "metadata": {},
   "source": [
    "# A3 - Learn an XOR Neural Network using gradient-based optimization\n",
    "\n",
    "This notebook shows some cool implementation and analyses of different neural network architectures to learn the X-OR function. The X-OR function is a good benchmark test for beginners in neural networks and deep learning because it is a non-linear function that can not be learnd by a simple linear model like linear regression that we have seen in the previous course a lot. \n",
    "\n",
    "Each of the models will be trained using gradient descent to minimize the loss function which in this case will be the mean squared error (MSE) between the predictions and true outputs.\n",
    "\n",
    "For comparison, the models will also be implemented using TensorFlow and Keras.\n",
    "\n",
    "This notebook will only cover chapter 1.2 which is a setup and 1.5 which is a implementation of of a Neural Networking using ReLu as an activation function and with some backpropagation.\n",
    "\n",
    "## 1.2 Setting the scene\n",
    "\n",
    "In this section, i will first import the required libraries for this assignment and also explain the X-OR function. I will also show the main \"metric\" that will be used which is MSE. In the example, MSE is implemented manually but i think there is a built-in function that does that but i will also show how to implement it manually just in case."
   ]
  },
  {
   "cell_type": "code",
   "execution_count": null,
   "id": "ede2f273",
   "metadata": {},
   "outputs": [
    {
     "name": "stdout",
     "output_type": "stream",
     "text": [
      "TensorFlow version: 2.19.0\n",
      "NumPy version: 2.0.2\n"
     ]
    }
   ],
   "source": [
    "import tensorflow as tf\n",
    "import numpy as np\n",
    "\n",
    "print(\"TensorFlow version:\", tf.__version__) # verify that TF works"
   ]
  },
  {
   "cell_type": "code",
   "execution_count": 5,
   "id": "69446947",
   "metadata": {},
   "outputs": [
    {
     "name": "stdout",
     "output_type": "stream",
     "text": [
      "XOR input:\n",
      "[[0 0]\n",
      " [0 1]\n",
      " [1 0]\n",
      " [1 1]]\n",
      "XOR output:\n",
      "[0 1 1 0]\n"
     ]
    }
   ],
   "source": [
    "def mse(ws, m, X, Y):\n",
    "    N = len(X)\n",
    "    err = 0\n",
    "    for i in range(N):\n",
    "        xi = X[i]\n",
    "        yi = m(ws, xi)\n",
    "        err += (Y[i] - yi) ** 2\n",
    "    return err / N\n",
    "\n",
    "# XOR input and output\n",
    "X = np.array([\n",
    "    [0, 0],\n",
    "    [0, 1],\n",
    "    [1, 0],\n",
    "    [1, 1]\n",
    "])\n",
    "Y = np.array([0, 1, 1, 0])\n",
    "\n",
    "print(\"XOR input:\")\n",
    "print(X)\n",
    "print(\"XOR output:\")\n",
    "print(Y)"
   ]
  },
  {
   "cell_type": "markdown",
   "id": "3bb0c39b",
   "metadata": {},
   "source": [
    "## 1.5 Neural Network with ReLu activation function"
   ]
  },
  {
   "cell_type": "code",
   "execution_count": null,
   "id": "0e7b59a6",
   "metadata": {},
   "outputs": [],
   "source": []
  }
 ],
 "metadata": {
  "kernelspec": {
   "display_name": "Python 3",
   "language": "python",
   "name": "python3"
  },
  "language_info": {
   "codemirror_mode": {
    "name": "ipython",
    "version": 3
   },
   "file_extension": ".py",
   "mimetype": "text/x-python",
   "name": "python",
   "nbconvert_exporter": "python",
   "pygments_lexer": "ipython3",
   "version": "3.10.11"
  }
 },
 "nbformat": 4,
 "nbformat_minor": 5
}
