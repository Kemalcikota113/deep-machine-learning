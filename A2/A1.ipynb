{
 "cells": [
  {
   "cell_type": "markdown",
   "id": "9599e0e3",
   "metadata": {},
   "source": [
    "# PCA and eigendisposition"
   ]
  },
  {
   "cell_type": "markdown",
   "id": "da3cb978",
   "metadata": {},
   "source": [
    "## 1.2 Generate bi-variate normal random numbers\n",
    "\n",
    "In this segment, i will generate 100 random values from the same multivariate normal distribution and create 100 samples.\n",
    "\n",
    "One thing that is important to note is that the values that are going to be generated in this assignment are going to be different then those in MATLAB because of how the RNG (Random Number Generator) works under the hood. Even if we have a fixed seed like in the example, it will be almost impossible to get the same sample as the example because we can not know for certain what `rng('default')` does in MATLAB.\n",
    "\n",
    "Even though the sample is different, we will still be able to eyeball the outputs we get and kind of know if its correct or not. And as we can see we got fairly close to the output given in the example."
   ]
  },
  {
   "cell_type": "code",
   "execution_count": 68,
   "id": "2043a2d6",
   "metadata": {},
   "outputs": [],
   "source": [
    "# import all dependencies and libraries\n",
    "\n",
    "import numpy as np\n",
    "import matplotlib.pyplot as plt\n",
    "from sklearn.decomposition import PCA\n",
    "import sympy as sp\n"
   ]
  },
  {
   "cell_type": "code",
   "execution_count": 69,
   "id": "745adc7f",
   "metadata": {},
   "outputs": [
    {
     "name": "stdout",
     "output_type": "stream",
     "text": [
      "Cov matrix: \n",
      "[[2.  1.5]\n",
      " [1.5 4. ]]\n"
     ]
    },
    {
     "data": {
      "image/png": "[encoded data removed]",
      "text/plain": [
       "<Figure size 640x480 with 1 Axes>"
      ]
     },
     "metadata": {},
     "output_type": "display_data"
    }
   ],
   "source": [
    "mu = [2, 3]\n",
    "cov = [[2, 1.5], [1.5, 4]]\n",
    "\n",
    "np.random.seed(0)\n",
    "\n",
    "samples = np.random.multivariate_normal(mu, cov, 100) # generate 100 samples\n",
    "\n",
    "print(\"Cov matrix: \")\n",
    "print(np.array(cov))\n",
    "\n",
    "plt.plot(samples[:, 0], samples[:, 1], '+', markersize=5, alpha=0.5)\n",
    "plt.show()"
   ]
  },
  {
   "cell_type": "code",
   "execution_count": 70,
   "id": "0eceb5f0",
   "metadata": {},
   "outputs": [
    {
     "name": "stdout",
     "output_type": "stream",
     "text": [
      "Sample Covariance Matrix:\n",
      "[[2.04790519 1.5552366 ]\n",
      " [1.5552366  4.26664226]]\n",
      "\n",
      "Sample Correlation Matrix:\n",
      "[[1.        0.5261365]\n",
      " [0.5261365 1.       ]]\n"
     ]
    }
   ],
   "source": [
    "sample_cov = np.cov(samples, rowvar=False)\n",
    "print(\"Sample Covariance Matrix:\")\n",
    "print(sample_cov)\n",
    "\n",
    "# Compute the sample correlation coefficient matrix.\n",
    "# Again specify rowvar=False since each column represents a variable.\n",
    "sample_corr = np.corrcoef(samples, rowvar=False)\n",
    "print(\"\\nSample Correlation Matrix:\")\n",
    "print(sample_corr)"
   ]
  },
  {
   "cell_type": "code",
   "execution_count": 71,
   "id": "b0ffe4f3",
   "metadata": {},
   "outputs": [
    {
     "name": "stdout",
     "output_type": "stream",
     "text": [
      "\n",
      "Manually computed Pearson correlation coefficient:\n",
      "0.5261364976639781\n"
     ]
    }
   ],
   "source": [
    "# Pearson correlation coefficient: Cov(X, Y) / (sqrt(Var(X))*sqrt(Var(Y)))\n",
    "r_manual = 1.5552366 / (np.sqrt(2.04790519 * 4.26664226))\n",
    "print(\"\\nManually computed Pearson correlation coefficient:\")\n",
    "print(r_manual)"
   ]
  },
  {
   "cell_type": "markdown",
   "id": "1ad43b98",
   "metadata": {},
   "source": [
    "## 1.3. Perform PCA on the bi-variate normal random numbers\n",
    "\n",
    "We can now perform PCA on the sample that we produced in the last step segment."
   ]
  },
  {
   "cell_type": "code",
   "execution_count": 72,
   "id": "5721fd65",
   "metadata": {},
   "outputs": [
    {
     "name": "stdout",
     "output_type": "stream",
     "text": [
      "Loading Vectors (Principal Components):\n",
      "[[ 0.45786841  0.88901998]\n",
      " [ 0.88901998 -0.45786841]]\n",
      "\n",
      "Variability Explained (in %):\n",
      "[80.2532502 19.7467498]\n"
     ]
    }
   ],
   "source": [
    "# intialize pca and get scores\n",
    "pca = PCA(n_components=2)\n",
    "scores = pca.fit_transform(samples)\n",
    "\n",
    "# loading_vector: principal component loadings (each column is a component)\n",
    "loading_vector = pca.components_.T\n",
    "\n",
    "variability_explained = pca.explained_variance_ratio_ * 100\n",
    "\n",
    "print(\"Loading Vectors (Principal Components):\")\n",
    "print(loading_vector)\n",
    "print(\"\\nVariability Explained (in %):\")\n",
    "print(variability_explained)\n"
   ]
  },
  {
   "cell_type": "code",
   "execution_count": 73,
   "id": "e4f45f07",
   "metadata": {},
   "outputs": [
    {
     "name": "stdout",
     "output_type": "stream",
     "text": [
      "\n",
      "Correlation Coefficient Matrix of Scores:\n",
      "[[1.00000000e+00 6.44712243e-16]\n",
      " [6.44712243e-16 1.00000000e+00]]\n"
     ]
    }
   ],
   "source": [
    "score_corr = np.corrcoef(scores, rowvar=False)\n",
    "print(\"\\nCorrelation Coefficient Matrix of Scores:\")\n",
    "print(score_corr)"
   ]
  },
  {
   "cell_type": "code",
   "execution_count": 74,
   "id": "ac28502c",
   "metadata": {},
   "outputs": [
    {
     "name": "stdout",
     "output_type": "stream",
     "text": [
      "\n",
      "Norm of loading vector 1: 0.9999999999999999\n",
      "Norm of loading vector 2: 0.9999999999999999\n",
      "Dot product of the two loading vectors: 0.0\n"
     ]
    }
   ],
   "source": [
    "norm_pc1 = np.linalg.norm(loading_vector[:, 0])\n",
    "norm_pc2 = np.linalg.norm(loading_vector[:, 1])\n",
    "dot_product = np.dot(loading_vector[:, 0], loading_vector[:, 1])\n",
    "\n",
    "print(\"\\nNorm of loading vector 1:\", norm_pc1)\n",
    "print(\"Norm of loading vector 2:\", norm_pc2)\n",
    "print(\"Dot product of the two loading vectors:\", dot_product)"
   ]
  },
  {
   "cell_type": "code",
   "execution_count": 75,
   "id": "79d58532",
   "metadata": {},
   "outputs": [
    {
     "data": {
      "image/png": "[encoded data removed]",
      "text/plain": [
       "<Figure size 800x600 with 1 Axes>"
      ]
     },
     "metadata": {},
     "output_type": "display_data"
    }
   ],
   "source": [
    "plt.figure(figsize=(8, 6))\n",
    "# Plot the PCA scores (the projected data)\n",
    "plt.scatter(scores[:, 0], scores[:, 1], c='r', alpha=0.5, label=\"Scores\")\n",
    "\n",
    "# Choose scaling factors for the loading vectors so they are visible.\n",
    "# We use the maximum absolute value of the scores to scale the arrows.\n",
    "scalex = np.max(np.abs(scores[:, 0]))\n",
    "scaley = np.max(np.abs(scores[:, 1]))\n",
    "\n",
    "# Define styling for the loading vectors\n",
    "labels = ['X', 'Y']\n",
    "\n",
    "for i in range(loading_vector.shape[0]):\n",
    "    plt.arrow(0, 0, loading_vector[i, 0] * scalex, loading_vector[i, 1] * scaley, color='b', width=0.005, head_width=0.05)\n",
    "    plt.text(loading_vector[i, 0] * scalex * 1.1, loading_vector[i, 1] * scaley * 1.1, labels[i],\n",
    "              color='black')\n",
    "\n",
    "plt.xlabel(\"PC 1\")\n",
    "plt.ylabel(\"PC 2\")\n",
    "plt.title(\"Biplot of PCA Scores and Loading Vectors\")\n",
    "plt.grid(True)\n",
    "plt.show()"
   ]
  },
  {
   "cell_type": "markdown",
   "id": "afd41ed6",
   "metadata": {},
   "source": [
    "## 1.4. Perform PCA step by step\n",
    "\n",
    "In chapter 1.3, i used a built in PCA class from sklearn to plot the principal components but in this chapter i will compute it manually. I will use the same formulas as in the example for my computations."
   ]
  },
  {
   "cell_type": "code",
   "execution_count": 76,
   "id": "98652b2a",
   "metadata": {},
   "outputs": [
    {
     "name": "stdout",
     "output_type": "stream",
     "text": [
      "Means: [1.86325053 3.07556654]\n",
      "Standard Deviations: [1.43105038 2.06558521]\n"
     ]
    }
   ],
   "source": [
    "# 1.4.1 Standardize the Data (Compute z-scores)\n",
    "mean_vals = np.mean(samples, axis=0)\n",
    "std_vals = np.std(samples, axis=0, ddof=1)\n",
    "\n",
    "# print for debug\n",
    "print(\"Means:\", mean_vals)\n",
    "print(\"Standard Deviations:\", std_vals)\n",
    "\n",
    "# Standardize each variable (z-score transformation)\n",
    "data_standardized = np.empty_like(samples)\n",
    "data_standardized[:, 0] = (samples[:, 0] - mean_vals[0]) / std_vals[0]\n",
    "data_standardized[:, 1] = (samples[:, 1] - mean_vals[1]) / std_vals[1]"
   ]
  },
  {
   "cell_type": "code",
   "execution_count": 77,
   "id": "06b3ced4",
   "metadata": {},
   "outputs": [
    {
     "name": "stdout",
     "output_type": "stream",
     "text": [
      "\n",
      "Covariance matrix of standardized data:\n",
      "[[1.        0.5261365]\n",
      " [0.5261365 1.       ]]\n"
     ]
    }
   ],
   "source": [
    "# 1.4.2 Compute the Covariance Matrix of the Standardized Data\n",
    "\n",
    "# Since the data is standardized, the variances along the diagonal should be 1.\n",
    "cov_standardized = np.cov(data_standardized, rowvar=False)\n",
    "print(\"\\nCovariance matrix of standardized data:\")\n",
    "print(cov_standardized)"
   ]
  },
  {
   "cell_type": "code",
   "execution_count": 78,
   "id": "77a9c8ed",
   "metadata": {},
   "outputs": [
    {
     "name": "stdout",
     "output_type": "stream",
     "text": [
      "loading_vector =\n",
      "[[-0.7071  0.7071]\n",
      " [ 0.7071  0.7071]]\n",
      "\n",
      "lambda =\n",
      "[[0.4739 0.    ]\n",
      " [0.     1.5261]]\n",
      "\n",
      "Cov*loading_vector(:,1) - lambda(1,1)*loading_vector(:,1) =\n",
      "[ 0. -0.]\n",
      "\n",
      "Cov*loading_vector(:,2) - lambda(2,2)*loading_vector(:,2) =\n",
      "[0. 0.]\n",
      "\n",
      "norm(loading_vector(:,1)) =\n",
      "1.0\n",
      "norm(loading_vector(:,2)) =\n",
      "1.0\n",
      "dot(loading_vector(:,1), loading_vector(:,2)) =\n",
      "0.0\n"
     ]
    }
   ],
   "source": [
    "# 1.4.3 find eigenvalues and eigenvectors\n",
    "\n",
    "# Given standardized covariance matrix (as in the example)\n",
    "Cov = np.array([[1.0000, 0.5261365],\n",
    "                [0.5261365, 1.0000]])\n",
    "\n",
    "eigen_vals, eigen_vecs = np.linalg.eig(Cov)\n",
    "sorted_indices = np.argsort(eigen_vals)  # sort in ascending order\n",
    "eigen_vals_sorted = eigen_vals[sorted_indices]\n",
    "eigen_vecs_sorted = eigen_vecs[:, sorted_indices]\n",
    "\n",
    "loading_vector = np.round(eigen_vecs_sorted, 4) # Round to 4 decimals for display\n",
    "lambda_matrix = np.diag(np.round(eigen_vals_sorted, 4))\n",
    "\n",
    "# Display results similar to MATLAB output:\n",
    "print(\"loading_vector =\")\n",
    "print(loading_vector)\n",
    "print(\"\\nlambda =\")\n",
    "print(lambda_matrix)\n",
    "\n",
    "# ------------------------------------------------------------------\n",
    "# Check if Cov*v = lambda*v for each eigenvector\n",
    "check1 = np.dot(Cov, loading_vector[:, 0]) - lambda_matrix[0, 0] * loading_vector[:, 0]\n",
    "check2 = np.dot(Cov, loading_vector[:, 1]) - lambda_matrix[1, 1] * loading_vector[:, 1]\n",
    "print(\"\\nCov*loading_vector(:,1) - lambda(1,1)*loading_vector(:,1) =\")\n",
    "print(np.round(check1, 4))\n",
    "print(\"\\nCov*loading_vector(:,2) - lambda(2,2)*loading_vector(:,2) =\")\n",
    "print(np.round(check2, 4))\n",
    "\n",
    "# Verify eigenvectors are unit vectors and orthogonal:\n",
    "norm1 = np.linalg.norm(loading_vector[:, 0])\n",
    "norm2 = np.linalg.norm(loading_vector[:, 1])\n",
    "dot_prod = np.dot(loading_vector[:, 0], loading_vector[:, 1])\n",
    "print(\"\\nnorm(loading_vector(:,1)) =\")\n",
    "print(np.round(norm1, 4))\n",
    "print(\"norm(loading_vector(:,2)) =\")\n",
    "print(np.round(norm2, 4))\n",
    "print(\"dot(loading_vector(:,1), loading_vector(:,2)) =\")\n",
    "print(np.round(dot_prod, 4))\n"
   ]
  },
  {
   "cell_type": "code",
   "execution_count": 79,
   "id": "c5ac257a",
   "metadata": {},
   "outputs": [
    {
     "data": {
      "image/png": "[encoded data removed]",
      "text/plain": [
       "<Figure size 800x600 with 1 Axes>"
      ]
     },
     "metadata": {},
     "output_type": "display_data"
    }
   ],
   "source": [
    "# 1,4,4\n",
    "\n",
    "# 1) Force each eigenvector's y-component to be positive\n",
    "if eigen_vecs_sorted[1, 0] < 0:\n",
    "    eigen_vecs_sorted[:, 0] = -eigen_vecs_sorted[:, 0]\n",
    "if eigen_vecs_sorted[1, 1] < 0:\n",
    "    eigen_vecs_sorted[:, 1] = -eigen_vecs_sorted[:, 1]\n",
    "\n",
    "# 2) Project the (standardized) data onto these flipped eigenvectors\n",
    "scores_manual = np.dot(data_standardized, eigen_vecs_sorted)\n",
    "\n",
    "# 4) Plot a biplot\n",
    "plt.figure(figsize=(8, 6))\n",
    "plt.scatter(scores_manual[:, 0], scores_manual[:, 1], c='b', alpha=0.5, label=\"Scores\")\n",
    "\n",
    "# Scale the arrows so they’re visible.\n",
    "scalex = np.max(np.abs(scores_manual[:, 0]))\n",
    "scaley = np.max(np.abs(scores_manual[:, 1]))\n",
    "\n",
    "labels = [\"X\", \"Y\"]\n",
    "for i in range(eigen_vecs_sorted.shape[0]):\n",
    "    plt.arrow(0, 0,\n",
    "              eigen_vecs_sorted[i, 0] * scalex,\n",
    "              eigen_vecs_sorted[i, 1] * scaley,\n",
    "              color='r', width=0.005, head_width=0.05)\n",
    "    plt.text(eigen_vecs_sorted[i, 0] * scalex * 1.1,\n",
    "             eigen_vecs_sorted[i, 1] * scaley * 1.1,\n",
    "             labels[i], color='black')\n",
    "\n",
    "plt.xlabel(\"Principal Component 1\")\n",
    "plt.ylabel(\"Principal Component 2\")\n",
    "plt.title(\"Biplot of Manual PCA (Forced Upward Arrows)\")\n",
    "plt.legend()\n",
    "plt.grid(True)\n",
    "plt.show()\n"
   ]
  },
  {
   "cell_type": "markdown",
   "id": "9a091079",
   "metadata": {},
   "source": [
    "Now, when computing the principal components, we can see that it looks different then when we used the built-in PCA class. In the MATLAB example, we can see that it uses a function that flips the eigenvectors. I try to replicate that by also multiplying the eigenvectors by -1 which ensures that the arrows point upward. If i used the `np.fliplr(scores_manual)` function by itself it would point downward. This is probably because of how sklearn PCA class works under the hood and this is why it is different than when we used the PCA class.\n",
    "\n",
    "Another reason why my this plot looks different is because of scaling. I did not use the `standardscaler` but i instead tried standardizing the data to the covariance matrix which is how i interpreted the example. However, under the hood, different libraries may scale data differently.\n",
    "\n",
    "## 1.5. perform eigendecomposition step-by-step"
   ]
  },
  {
   "cell_type": "code",
   "execution_count": 80,
   "id": "0abd2bbf",
   "metadata": {},
   "outputs": [
    {
     "name": "stdout",
     "output_type": "stream",
     "text": [
      "Covariance Matrix (Cov):\n",
      "[[1.        0.5261365]\n",
      " [0.5261365 1.       ]]\n",
      "\n",
      "Eigenvalues (sorted in descending order):\n",
      "[1.5261365 0.4738635]\n",
      "\n",
      "For lambda_1 = 1.5261365:\n",
      "Cov - lambda_1*I =\n",
      "[[-0.5261365  0.5261365]\n",
      " [ 0.5261365 -0.5261365]]\n",
      "det(Cov - lambda_1*I) = 2.3365e-16\n",
      "\n",
      "For lambda_2 = 0.4738635:\n",
      "Cov - lambda_2*I =\n",
      "[[0.5261365 0.5261365]\n",
      " [0.5261365 0.5261365]]\n",
      "det(Cov - lambda_2*I) = 1.1683e-16\n",
      "\n",
      "Final adjusted loading vectors (each column is an eigenvector):\n",
      "[[ 0.7071 -0.7071]\n",
      " [ 0.7071  0.7071]]\n"
     ]
    }
   ],
   "source": [
    "\n",
    "# Define the 2x2 covariance matrix (from standardized data)\n",
    "Cov = np.array([[1.0000, 0.5261365],\n",
    "                [0.5261365, 1.0000]])\n",
    "print(\"Covariance Matrix (Cov):\")\n",
    "print(Cov)\n",
    "\n",
    "# 1.5.1 Compute Eigenvalues via the Characteristic Polynomial\n",
    "a = 1.0\n",
    "b = - (Cov[0, 0] + Cov[1, 1])\n",
    "c = Cov[0, 0]*Cov[1, 1] - Cov[0, 1]*Cov[1, 0]\n",
    "polynomial = [a, b, c]\n",
    "\n",
    "eigenvalues = np.roots(polynomial)\n",
    "eigenvalues_sorted = np.sort(eigenvalues)[::-1]\n",
    "print(\"\\nEigenvalues (sorted in descending order):\")\n",
    "print(np.round(eigenvalues_sorted, 7))\n",
    "\n",
    "lambda1_val = eigenvalues_sorted[0]\n",
    "lambda2_val = eigenvalues_sorted[1]\n",
    "\n",
    "# Test the solutions:\n",
    "lambda1_matrix = np.array([[lambda1_val, 0], [0, lambda1_val]])\n",
    "Char1 = Cov - lambda1_matrix\n",
    "det_Char1 = np.linalg.det(Char1)\n",
    "print(\"\\nFor lambda_1 = {:.7f}:\".format(lambda1_val))\n",
    "print(\"Cov - lambda_1*I =\")\n",
    "print(np.round(Char1, 7))\n",
    "print(\"det(Cov - lambda_1*I) = {:.4e}\".format(det_Char1))\n",
    "\n",
    "lambda2_matrix = np.array([[lambda2_val, 0], [0, lambda2_val]])\n",
    "Char2 = Cov - lambda2_matrix\n",
    "det_Char2 = np.linalg.det(Char2)\n",
    "print(\"\\nFor lambda_2 = {:.7f}:\".format(lambda2_val))\n",
    "print(\"Cov - lambda_2*I =\")\n",
    "print(np.round(Char2, 7))\n",
    "print(\"det(Cov - lambda_2*I) = {:.4e}\".format(det_Char2))\n",
    "\n",
    "\n",
    "# 1.5.2 Compute the Eigenvectors Using \n",
    "eigvals, eigvecs = np.linalg.eig(Cov)\n",
    "# Sort eigenvalues and eigenvectors in descending order\n",
    "sorted_indices = np.argsort(eigvals)[::-1]\n",
    "eigvals_sorted = eigvals[sorted_indices]\n",
    "eigvecs_sorted = eigvecs[:, sorted_indices]\n",
    "\n",
    "\n",
    "v1 = eigvecs_sorted[:, 0].copy()\n",
    "if v1[1] < 0:\n",
    "    v1 = -v1\n",
    "\n",
    "\n",
    "v2 = eigvecs_sorted[:, 1].copy()\n",
    "if v2[0] > 0:\n",
    "    v2 = -v2\n",
    "if v2[1] < 0:\n",
    "    v2 = -v2\n",
    "\n",
    "loading_vector = np.column_stack((v1, v2))\n",
    "print(\"\\nFinal adjusted loading vectors (each column is an eigenvector):\")\n",
    "print(np.round(loading_vector, 4))\n"
   ]
  }
 ],
 "metadata": {
  "kernelspec": {
   "display_name": "Python 3",
   "language": "python",
   "name": "python3"
  },
  "language_info": {
   "codemirror_mode": {
    "name": "ipython",
    "version": 3
   },
   "file_extension": ".py",
   "mimetype": "text/x-python",
   "name": "python",
   "nbconvert_exporter": "python",
   "pygments_lexer": "ipython3",
   "version": "3.13.2"
  }
 },
 "nbformat": 4,
 "nbformat_minor": 5
}
